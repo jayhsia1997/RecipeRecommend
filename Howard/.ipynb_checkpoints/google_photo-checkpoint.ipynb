{
 "cells": [
  {
   "cell_type": "code",
   "execution_count": 30,
   "metadata": {},
   "outputs": [
    {
     "name": "stdout",
     "output_type": "stream",
     "text": [
      "第 1 張\n",
      "第 2 張\n",
      "第 3 張\n",
      "第 4 張\n",
      "第 5 張\n",
      "第 6 張\n",
      "第 7 張\n",
      "第 8 張\n",
      "第 9 張\n",
      "第 10 張\n",
      "Done\n"
     ]
    }
   ],
   "source": [
    "import requests\n",
    "\n",
    "import urllib.request\n",
    "\n",
    "from bs4 import BeautifulSoup\n",
    "\n",
    "import os\n",
    "\n",
    "import time\n",
    "\n",
    "\n",
    "\n",
    "\n",
    "\n",
    "url = 'https://www.google.com/search?q=%E9%A6%99%E8%95%89&tbm=isch&ved=2ahUKEwjXiLDzy8blAhUFyZQKHZCRDvUQ2-cCegQIABAA&oq=%E9%A6%99%E8%95%89&gs_l=img.3..0l10.1733543.1738066..1738720...10.0..1.330.3282.0j9j6j1......0....1..gws-wiz-img.....10..35i362i39j0i30j0i8i30j0i24j0i5i30.ZfUx-VRCirs&ei=IOC6Xdf4LoWS0wSQo7qoDw&bih=937&biw=1920&rlz=1C1SQJL_zh-TWTW836TW836'\n",
    "\n",
    "photolimit = 10\n",
    "\n",
    "\n",
    "\n",
    "headers = {'User-Agent': 'Mozilla/5.0'}\n",
    "\n",
    "response = requests.get(url,headers = headers) #使用header避免訪問受到限制\n",
    "\n",
    "soup = BeautifulSoup(response.content, 'html.parser')\n",
    "\n",
    "items = soup.find_all('img')\n",
    "\n",
    "folder_path ='./photo/'\n",
    "\n",
    "if (os.path.exists(folder_path) == False): #判斷資料夾是否存在\n",
    "\n",
    "    os.makedirs(folder_path) #Create folder\n",
    "\n",
    "\n",
    "\n",
    "for index , item in enumerate (items):\n",
    "\n",
    "    if (item and index < photolimit ):\n",
    "\n",
    "        html = requests.get(item.get('src')) # use 'get' to get photo link path , requests = send request\n",
    "\n",
    "        img_name = folder_path + str(index + 1) + '.png'\n",
    "\n",
    "\n",
    "\n",
    "        with open(img_name,'wb') as file: #以byte的形式將圖片數據寫入\n",
    "\n",
    "            file.write(html.content)\n",
    "\n",
    "            file.flush()\n",
    "\n",
    "        file.close() #close file\n",
    "\n",
    "        print('第 %d 張' % (index + 1))\n",
    "\n",
    "        time.sleep(1)\n",
    "\n",
    "\n",
    "\n",
    "print('Done')"
   ]
  },
  {
   "cell_type": "code",
   "execution_count": 25,
   "metadata": {},
   "outputs": [],
   "source": []
  },
  {
   "cell_type": "code",
   "execution_count": null,
   "metadata": {},
   "outputs": [],
   "source": []
  }
 ],
 "metadata": {
  "kernelspec": {
   "display_name": "Python 3",
   "language": "python",
   "name": "python3"
  },
  "language_info": {
   "codemirror_mode": {
    "name": "ipython",
    "version": 3
   },
   "file_extension": ".py",
   "mimetype": "text/x-python",
   "name": "python",
   "nbconvert_exporter": "python",
   "pygments_lexer": "ipython3",
   "version": "3.7.3"
  }
 },
 "nbformat": 4,
 "nbformat_minor": 2
}
